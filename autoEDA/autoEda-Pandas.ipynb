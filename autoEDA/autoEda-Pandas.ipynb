{
 "cells": [
  {
   "cell_type": "code",
   "execution_count": 4,
   "id": "36d55ddd-8b68-455c-bc54-0a6b69f01664",
   "metadata": {},
   "outputs": [],
   "source": [
    "# !pip install -U langchain openai"
   ]
  },
  {
   "cell_type": "raw",
   "id": "f1e2114b-9a9b-404f-b32e-632ac4493825",
   "metadata": {},
   "source": [
    "import os\n",
    "import pandas as pd\n",
    "from getpass import getpass\n",
    "from langchain.llms import OpenAI\n",
    "from langchain.agents import create_pandas_dataframe_agent\n",
    "\n",
    "os.environ[\"OPENAI_API_KEY\"] = getpass(\"Insert your key: \")"
   ]
  },
  {
   "cell_type": "code",
   "execution_count": 1,
   "id": "85a2f294-40f0-4b56-bd1b-454b27c58e24",
   "metadata": {},
   "outputs": [
    {
     "name": "stdout",
     "output_type": "stream",
     "text": [
      "Requirement already satisfied: langchain in /home/eduardo/anaconda3/lib/python3.10/site-packages (0.0.189)\n",
      "Requirement already satisfied: openai in /home/eduardo/anaconda3/lib/python3.10/site-packages (0.27.7)\n",
      "Requirement already satisfied: PyYAML>=5.4.1 in /home/eduardo/anaconda3/lib/python3.10/site-packages (from langchain) (6.0)\n",
      "Requirement already satisfied: SQLAlchemy<3,>=1.4 in /home/eduardo/anaconda3/lib/python3.10/site-packages (from langchain) (1.4.39)\n",
      "Requirement already satisfied: aiohttp<4.0.0,>=3.8.3 in /home/eduardo/anaconda3/lib/python3.10/site-packages (from langchain) (3.8.4)\n",
      "Requirement already satisfied: async-timeout<5.0.0,>=4.0.0 in /home/eduardo/anaconda3/lib/python3.10/site-packages (from langchain) (4.0.2)\n",
      "Requirement already satisfied: dataclasses-json<0.6.0,>=0.5.7 in /home/eduardo/anaconda3/lib/python3.10/site-packages (from langchain) (0.5.7)\n",
      "Requirement already satisfied: numexpr<3.0.0,>=2.8.4 in /home/eduardo/anaconda3/lib/python3.10/site-packages (from langchain) (2.8.4)\n",
      "Requirement already satisfied: numpy<2,>=1 in /home/eduardo/anaconda3/lib/python3.10/site-packages (from langchain) (1.23.5)\n",
      "Requirement already satisfied: openapi-schema-pydantic<2.0,>=1.2 in /home/eduardo/anaconda3/lib/python3.10/site-packages (from langchain) (1.2.4)\n",
      "Requirement already satisfied: pydantic<2,>=1 in /home/eduardo/anaconda3/lib/python3.10/site-packages (from langchain) (1.10.7)\n",
      "Requirement already satisfied: requests<3,>=2 in /home/eduardo/anaconda3/lib/python3.10/site-packages (from langchain) (2.31.0)\n",
      "Requirement already satisfied: tenacity<9.0.0,>=8.1.0 in /home/eduardo/anaconda3/lib/python3.10/site-packages (from langchain) (8.2.2)\n",
      "Requirement already satisfied: tqdm in /home/eduardo/anaconda3/lib/python3.10/site-packages (from openai) (4.64.1)\n",
      "Requirement already satisfied: attrs>=17.3.0 in /home/eduardo/anaconda3/lib/python3.10/site-packages (from aiohttp<4.0.0,>=3.8.3->langchain) (22.1.0)\n",
      "Requirement already satisfied: charset-normalizer<4.0,>=2.0 in /home/eduardo/anaconda3/lib/python3.10/site-packages (from aiohttp<4.0.0,>=3.8.3->langchain) (2.0.4)\n",
      "Requirement already satisfied: multidict<7.0,>=4.5 in /home/eduardo/anaconda3/lib/python3.10/site-packages (from aiohttp<4.0.0,>=3.8.3->langchain) (6.0.4)\n",
      "Requirement already satisfied: yarl<2.0,>=1.0 in /home/eduardo/anaconda3/lib/python3.10/site-packages (from aiohttp<4.0.0,>=3.8.3->langchain) (1.8.2)\n",
      "Requirement already satisfied: frozenlist>=1.1.1 in /home/eduardo/anaconda3/lib/python3.10/site-packages (from aiohttp<4.0.0,>=3.8.3->langchain) (1.3.3)\n",
      "Requirement already satisfied: aiosignal>=1.1.2 in /home/eduardo/anaconda3/lib/python3.10/site-packages (from aiohttp<4.0.0,>=3.8.3->langchain) (1.3.1)\n",
      "Requirement already satisfied: marshmallow<4.0.0,>=3.3.0 in /home/eduardo/anaconda3/lib/python3.10/site-packages (from dataclasses-json<0.6.0,>=0.5.7->langchain) (3.19.0)\n",
      "Requirement already satisfied: marshmallow-enum<2.0.0,>=1.5.1 in /home/eduardo/anaconda3/lib/python3.10/site-packages (from dataclasses-json<0.6.0,>=0.5.7->langchain) (1.5.1)\n",
      "Requirement already satisfied: typing-inspect>=0.4.0 in /home/eduardo/anaconda3/lib/python3.10/site-packages (from dataclasses-json<0.6.0,>=0.5.7->langchain) (0.8.0)\n",
      "Requirement already satisfied: typing-extensions>=4.2.0 in /home/eduardo/anaconda3/lib/python3.10/site-packages (from pydantic<2,>=1->langchain) (4.4.0)\n",
      "Requirement already satisfied: idna<4,>=2.5 in /home/eduardo/anaconda3/lib/python3.10/site-packages (from requests<3,>=2->langchain) (3.4)\n",
      "Requirement already satisfied: urllib3<3,>=1.21.1 in /home/eduardo/anaconda3/lib/python3.10/site-packages (from requests<3,>=2->langchain) (1.26.14)\n",
      "Requirement already satisfied: certifi>=2017.4.17 in /home/eduardo/anaconda3/lib/python3.10/site-packages (from requests<3,>=2->langchain) (2022.12.7)\n",
      "Requirement already satisfied: greenlet!=0.4.17 in /home/eduardo/anaconda3/lib/python3.10/site-packages (from SQLAlchemy<3,>=1.4->langchain) (2.0.1)\n",
      "Requirement already satisfied: packaging>=17.0 in /home/eduardo/anaconda3/lib/python3.10/site-packages (from marshmallow<4.0.0,>=3.3.0->dataclasses-json<0.6.0,>=0.5.7->langchain) (22.0)\n",
      "Requirement already satisfied: mypy-extensions>=0.3.0 in /home/eduardo/anaconda3/lib/python3.10/site-packages (from typing-inspect>=0.4.0->dataclasses-json<0.6.0,>=0.5.7->langchain) (0.4.3)\n"
     ]
    }
   ],
   "source": [
    "!pip install -U langchain openai"
   ]
  },
  {
   "cell_type": "code",
   "execution_count": 2,
   "id": "b4bf08cd-32d2-4cb1-8c75-480280a108e8",
   "metadata": {},
   "outputs": [
    {
     "name": "stdin",
     "output_type": "stream",
     "text": [
      "Insert your openai api key: ········\n"
     ]
    }
   ],
   "source": [
    "import os\n",
    "import pandas as pd\n",
    "\n",
    "from getpass import getpass\n",
    "from langchain.agents import create_pandas_dataframe_agent\n",
    "from langchain.llms import OpenAI\n",
    "\n",
    "os.environ[\"OPENAI_API_KEY\"] = getpass(\"Insert your openai api key:\")"
   ]
  },
  {
   "cell_type": "markdown",
   "id": "f97fdc95-ed03-4551-8a51-cb9d9bbd7ae2",
   "metadata": {},
   "source": [
    "# Dataframe de Exemplo"
   ]
  },
  {
   "cell_type": "code",
   "execution_count": 4,
   "id": "988de860-9ac5-4e14-bbbe-0073bc5fd624",
   "metadata": {},
   "outputs": [],
   "source": [
    "# Example dataframe\n",
    "df = pd.DataFrame()\n",
    "for year in range(1992, 2023):\n",
    "    df = pd.concat([df, pd.read_csv(f\"https://raw.githubusercontent.com/abhionlyone/us-car-models-data/master/{year}.csv\")])\n",
    "\n",
    "agent = create_pandas_dataframe_agent(OpenAI(temperature=0), df, verbose=True)"
   ]
  },
  {
   "cell_type": "code",
   "execution_count": 5,
   "id": "3e66945f-b684-4baa-a232-67781988649d",
   "metadata": {},
   "outputs": [
    {
     "name": "stdout",
     "output_type": "stream",
     "text": [
      "\n",
      "\n",
      "\u001b[1m> Entering new AgentExecutor chain...\u001b[0m\n",
      "\u001b[32;1m\u001b[1;3mThought: I need to find the most popular model in 1997\n",
      "Action: python_repl_ast\n",
      "Action Input: df[df['year'] == 1997]['model'].value_counts().head(1)\u001b[0m\n",
      "Observation: \u001b[36;1m\u001b[1;3mNeon    2\n",
      "Name: model, dtype: int64\u001b[0m\n",
      "Thought:\u001b[32;1m\u001b[1;3m I now know the final answer\n",
      "Final Answer: Neon\u001b[0m\n",
      "\n",
      "\u001b[1m> Finished chain.\u001b[0m\n"
     ]
    },
    {
     "data": {
      "text/plain": [
       "'Neon'"
      ]
     },
     "execution_count": 5,
     "metadata": {},
     "output_type": "execute_result"
    }
   ],
   "source": [
    "agent.run(\"Qual o modelo de carro mais vendido em 1997?\")"
   ]
  },
  {
   "cell_type": "code",
   "execution_count": 6,
   "id": "d4d599ff-d365-4a28-afb1-1dfdf386b50a",
   "metadata": {},
   "outputs": [
    {
     "name": "stdout",
     "output_type": "stream",
     "text": [
      "\n",
      "\n",
      "\u001b[1m> Entering new AgentExecutor chain...\u001b[0m\n",
      "\u001b[32;1m\u001b[1;3mThought: I need to count the number of cars per year\n",
      "Action: python_repl_ast\n",
      "Action Input: df.groupby('year').count()\u001b[0m\n",
      "Observation: \u001b[36;1m\u001b[1;3m      make  model  body_styles\n",
      "year                          \n",
      "1992   282    282          282\n",
      "1993   291    291          291\n",
      "1994   261    261          261\n",
      "1995   267    267          267\n",
      "1996   261    261          261\n",
      "1997   265    265          265\n",
      "1998   258    258          258\n",
      "1999   282    282          282\n",
      "2000   292    292          292\n",
      "2001   300    300          300\n",
      "2002   309    309          309\n",
      "2003   311    311          311\n",
      "2004   332    332          332\n",
      "2005   342    342          342\n",
      "2006   347    347          347\n",
      "2007   370    370          370\n",
      "2008   367    367          367\n",
      "2009   363    363          363\n",
      "2010   347    347          347\n",
      "2011   348    348          348\n",
      "2012   345    345          345\n",
      "2013   354    354          354\n",
      "2014   371    371          371\n",
      "2015   391    391          391\n",
      "2016   404    404          404\n",
      "2017   446    446          446\n",
      "2018   439    439          439\n",
      "2019   466    466          466\n",
      "2020   375    375          375\n",
      "2021   450    450          450\n",
      "2022   477    477          477\u001b[0m\n",
      "Thought:\u001b[32;1m\u001b[1;3m I now know the number of cars per year\n",
      "Action: python_repl_ast\n",
      "Action Input: df.groupby('year').count().plot.bar()\u001b[0m\n",
      "Observation: \u001b[36;1m\u001b[1;3mAxes(0.125,0.11;0.775x0.77)\u001b[0m\n",
      "Thought:\u001b[32;1m\u001b[1;3m I now have a bar chart of the number of cars per year\n",
      "Final Answer: Um gráfico de barras da quantidade de carros por ano foi gerado.\u001b[0m\n",
      "\n",
      "\u001b[1m> Finished chain.\u001b[0m\n"
     ]
    },
    {
     "data": {
      "text/plain": [
       "'Um gráfico de barras da quantidade de carros por ano foi gerado.'"
      ]
     },
     "execution_count": 6,
     "metadata": {},
     "output_type": "execute_result"
    },
    {
     "data": {
      "image/png": "[encoded data removed]",
      "text/plain": [
       "<Figure size 640x480 with 1 Axes>"
      ]
     },
     "metadata": {},
     "output_type": "display_data"
    }
   ],
   "source": [
    "agent.run(\"Pode me gerar um gráfico de barras da quantidade de carros por ano?\")"
   ]
  },
  {
   "cell_type": "code",
   "execution_count": 8,
   "id": "19e2cc3c-6f7b-4ec4-b466-3e061d746513",
   "metadata": {},
   "outputs": [
    {
     "name": "stdout",
     "output_type": "stream",
     "text": [
      "\n",
      "\n",
      "\u001b[1m> Entering new AgentExecutor chain...\u001b[0m\n",
      "\u001b[32;1m\u001b[1;3mThought: I need to count the number of cars for each make\n",
      "Action: python_repl_ast\n",
      "Action Input: df['make'].value_counts()\u001b[0m\n",
      "Observation: \u001b[36;1m\u001b[1;3mChevrolet        1031\n",
      "Ford              917\n",
      "GMC               699\n",
      "Toyota            610\n",
      "Mercedes-Benz     534\n",
      "                 ... \n",
      "Daihatsu            2\n",
      "SRT                 2\n",
      "Panoz               2\n",
      "Fisker              1\n",
      "Lucid               1\n",
      "Name: make, Length: 65, dtype: int64\u001b[0m\n",
      "Thought:\u001b[32;1m\u001b[1;3m I now know the final answer\n",
      "Final Answer: A marca que mais fabricou carros foi a Chevrolet.\u001b[0m\n",
      "\n",
      "\u001b[1m> Finished chain.\u001b[0m\n"
     ]
    },
    {
     "data": {
      "text/plain": [
       "'A marca que mais fabricou carros foi a Chevrolet.'"
      ]
     },
     "execution_count": 8,
     "metadata": {},
     "output_type": "execute_result"
    }
   ],
   "source": [
    "agent.run(\"Qual a marca que mais fabricou carros?\")"
   ]
  },
  {
   "cell_type": "code",
   "execution_count": 9,
   "id": "aed7b4c5-313e-444b-8015-3a1d616c31db",
   "metadata": {},
   "outputs": [
    {
     "name": "stdout",
     "output_type": "stream",
     "text": [
      "\n",
      "\n",
      "\u001b[1m> Entering new AgentExecutor chain...\u001b[0m\n",
      "\u001b[32;1m\u001b[1;3mThought: I need to get the number of cars made by Chevrolet each year\n",
      "Action: python_repl_ast\n",
      "Action Input: df[df['make'] == 'Chevrolet'].groupby('year').count()\u001b[0m\n",
      "Observation: \u001b[36;1m\u001b[1;3m      make  model  body_styles\n",
      "year                          \n",
      "1992    30     30           30\n",
      "1993    30     30           30\n",
      "1994    30     30           30\n",
      "1995    31     31           31\n",
      "1996    34     34           34\n",
      "1997    29     29           29\n",
      "1998    33     33           33\n",
      "1999    38     38           38\n",
      "2000    39     39           39\n",
      "2001    37     37           37\n",
      "2002    39     39           39\n",
      "2003    38     38           38\n",
      "2004    42     42           42\n",
      "2005    42     42           42\n",
      "2006    36     36           36\n",
      "2007    43     43           43\n",
      "2008    33     33           33\n",
      "2009    31     31           31\n",
      "2010    31     31           31\n",
      "2011    32     32           32\n",
      "2012    32     32           32\n",
      "2013    30     30           30\n",
      "2014    29     29           29\n",
      "2015    33     33           33\n",
      "2016    35     35           35\n",
      "2017    32     32           32\n",
      "2018    31     31           31\n",
      "2019    30     30           30\n",
      "2020    23     23           23\n",
      "2021    27     27           27\n",
      "2022    31     31           31\u001b[0m\n",
      "Thought:\u001b[32;1m\u001b[1;3m I now have the number of cars made by Chevrolet each year\n",
      "Action: python_repl_ast\n",
      "Action Input: df[df['make'] == 'Chevrolet'].groupby('year').count().plot()\u001b[0m\n",
      "Observation: \u001b[36;1m\u001b[1;3mAxes(0.125,0.11;0.775x0.77)\u001b[0m\n",
      "Thought:\u001b[32;1m\u001b[1;3m I now know the final answer\n",
      "Final Answer: A gráfico de linhas da quantidade de carros fabricadas pela Chevrolet por ano foi gerado.\u001b[0m\n",
      "\n",
      "\u001b[1m> Finished chain.\u001b[0m\n"
     ]
    },
    {
     "data": {
      "text/plain": [
       "'A gráfico de linhas da quantidade de carros fabricadas pela Chevrolet por ano foi gerado.'"
      ]
     },
     "execution_count": 9,
     "metadata": {},
     "output_type": "execute_result"
    },
    {
     "data": {
      "image/png": "[encoded data removed]",
      "text/plain": [
       "<Figure size 640x480 with 1 Axes>"
      ]
     },
     "metadata": {},
     "output_type": "display_data"
    }
   ],
   "source": [
    "agent.run(\"Pode me gerar um gráfico de linhas da quantidade de carros fabricadas pela Chevrolet por ano?\")"
   ]
  },
  {
   "cell_type": "code",
   "execution_count": 12,
   "id": "26c6b472-a7a8-4ce5-b706-071fe462d4e3",
   "metadata": {},
   "outputs": [
    {
     "name": "stdout",
     "output_type": "stream",
     "text": [
      "\n",
      "\n",
      "\u001b[1m> Entering new AgentExecutor chain...\u001b[0m\n",
      "\u001b[32;1m\u001b[1;3mThought: I need to group the data by make and year\n",
      "Action: python_repl_ast\n",
      "Action Input: df.groupby(['make', 'year']).size()\u001b[0m\n",
      "Observation: \u001b[36;1m\u001b[1;3mmake   year\n",
      "Acura  1992    4\n",
      "       1993    4\n",
      "       1994    4\n",
      "       1995    4\n",
      "       1996    5\n",
      "              ..\n",
      "smart  2015    2\n",
      "       2016    2\n",
      "       2017    4\n",
      "       2018    2\n",
      "       2019    2\n",
      "Length: 1288, dtype: int64\u001b[0m\n",
      "Thought:\u001b[32;1m\u001b[1;3m I need to convert this into a dataframe\n",
      "Action: python_repl_ast\n",
      "Action Input: df.groupby(['make', 'year']).size().reset_index(name='count')\u001b[0m\n",
      "Observation: \u001b[36;1m\u001b[1;3m       make  year  count\n",
      "0     Acura  1992      4\n",
      "1     Acura  1993      4\n",
      "2     Acura  1994      4\n",
      "3     Acura  1995      4\n",
      "4     Acura  1996      5\n",
      "...     ...   ...    ...\n",
      "1283  smart  2015      2\n",
      "1284  smart  2016      2\n",
      "1285  smart  2017      4\n",
      "1286  smart  2018      2\n",
      "1287  smart  2019      2\n",
      "\n",
      "[1288 rows x 3 columns]\u001b[0m\n",
      "Thought:\u001b[32;1m\u001b[1;3m I need to filter the dataframe to only include Chevrolet\n",
      "Action: python_repl_ast\n",
      "Action Input: df.groupby(['make', 'year']).size().reset_index(name='count').query('make == \"Chevrolet\"')\u001b[0m\n",
      "Observation: \u001b[36;1m\u001b[1;3m          make  year  count\n",
      "201  Chevrolet  1992     30\n",
      "202  Chevrolet  1993     30\n",
      "203  Chevrolet  1994     30\n",
      "204  Chevrolet  1995     31\n",
      "205  Chevrolet  1996     34\n",
      "206  Chevrolet  1997     29\n",
      "207  Chevrolet  1998     33\n",
      "208  Chevrolet  1999     38\n",
      "209  Chevrolet  2000     39\n",
      "210  Chevrolet  2001     37\n",
      "211  Chevrolet  2002     39\n",
      "212  Chevrolet  2003     38\n",
      "213  Chevrolet  2004     42\n",
      "214  Chevrolet  2005     42\n",
      "215  Chevrolet  2006     36\n",
      "216  Chevrolet  2007     43\n",
      "217  Chevrolet  2008     33\n",
      "218  Chevrolet  2009     31\n",
      "219  Chevrolet  2010     31\n",
      "220  Chevrolet  2011     32\n",
      "221  Chevrolet  2012     32\n",
      "222  Chevrolet  2013     30\n",
      "223  Chevrolet  2014     29\n",
      "224  Chevrolet  2015     33\n",
      "225  Chevrolet  2016     35\n",
      "226  Chevrolet  2017     32\n",
      "227  Chevrolet  2018     31\n",
      "228  Chevrolet  2019     30\n",
      "229  Chevrolet  2020     23\n",
      "230  Chevrolet  2021     27\n",
      "231  Chevrolet  2022     31\u001b[0m\n",
      "Thought:\u001b[32;1m\u001b[1;3m I now know the final answer\n",
      "Final Answer: A pandas dataframe com quantidade de carros fabricadas pela Chevrolet por ano é:\n",
      "\n",
      "|    |   make       | year | count |\n",
      "|---:|:-------------|-----:|------:|\n",
      "|201 | Chevrolet    | 1992 |    30 |\n",
      "|202 | Chevrolet    | 1993 |    30 |\n",
      "|203 | Chevrolet    | 1994 |    30 |\n",
      "|204 | Chevrolet    | 1995 |    31 |\n",
      "|205 | Chevrolet    | 1996 |    34 |\n",
      "|206 | Chevrolet    | 1997 |    29 |\n",
      "|207 | Chevrolet    | 1998 |    33 |\n",
      "|208 | Chevrolet    | 1999 |    38 |\n",
      "|209 | Chevrolet    | 2000 |    39 |\n",
      "|210 | Chevrolet    | 2001 |    37 |\n",
      "|211 | Chevrolet    | 2002 |    39 |\n",
      "|212 | Chevrolet    | 2003 |    38 |\n",
      "|213 | Chevrolet    | 2004 |    42 |\n",
      "|214 | Chevrolet    | 2005 |    42 |\n",
      "|215 | Chevrolet    | 2006 |    36 |\n",
      "|216 | Chevrolet    | 2007 |    43 |\n",
      "|217 | Chevrolet\u001b[0m\n",
      "\n",
      "\u001b[1m> Finished chain.\u001b[0m\n"
     ]
    }
   ],
   "source": [
    "df_agg = agent.run(\"Pode me gerar um pandas dataframe com quantidade de carros fabricadas pela Chevrolet por ano?\")"
   ]
  },
  {
   "cell_type": "code",
   "execution_count": null,
   "id": "1dd49ccd-d4ce-481a-879d-334c18c11529",
   "metadata": {},
   "outputs": [],
   "source": []
  }
 ],
 "metadata": {
  "kernelspec": {
   "display_name": "Python 3 (ipykernel)",
   "language": "python",
   "name": "python3"
  },
  "language_info": {
   "codemirror_mode": {
    "name": "ipython",
    "version": 3
   },
   "file_extension": ".py",
   "mimetype": "text/x-python",
   "name": "python",
   "nbconvert_exporter": "python",
   "pygments_lexer": "ipython3",
   "version": "3.10.9"
  }
 },
 "nbformat": 4,
 "nbformat_minor": 5
}
